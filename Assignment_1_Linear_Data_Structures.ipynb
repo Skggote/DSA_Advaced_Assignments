{
  "nbformat": 4,
  "nbformat_minor": 0,
  "metadata": {
    "colab": {
      "provenance": []
    },
    "kernelspec": {
      "name": "python3",
      "display_name": "Python 3"
    },
    "language_info": {
      "name": "python"
    }
  },
  "cells": [
    {
      "cell_type": "markdown",
      "source": [
        "## **Problem for Assignment-2: Linear Data Structures**"
      ],
      "metadata": {
        "id": "894JffB1YWrL"
      }
    },
    {
      "cell_type": "markdown",
      "source": [
        "### **Solve these questions in a Jupyter notebook. Share the URL of the Jupyter notebook/GitHub.**"
      ],
      "metadata": {
        "id": "HJPbW1ZrYWNE"
      }
    },
    {
      "cell_type": "markdown",
      "source": [
        "**1. Delete the elements in an linked list whose sum is equal to zero**"
      ],
      "metadata": {
        "id": "PlLX8kC9Yl43"
      }
    },
    {
      "cell_type": "markdown",
      "source": [
        "**Code :**"
      ],
      "metadata": {
        "id": "e8G3IE_xYwrV"
      }
    },
    {
      "cell_type": "code",
      "execution_count": 17,
      "metadata": {
        "colab": {
          "base_uri": "https://localhost:8080/"
        },
        "id": "iZbjZVbJJNaA",
        "outputId": "94c706ff-fcfa-457d-b43b-06bcf5e2ac77"
      },
      "outputs": [
        {
          "output_type": "stream",
          "name": "stdout",
          "text": [
            "Enter elements of the linked list separated by spaces: 1 2 -3 3 1\n",
            "\n",
            "Original Linked List:\n",
            "1 -> 2 -> -3 -> 3 -> 1\n",
            "\n",
            "Linked List after Deleting Zero Sum Nodes:\n",
            "3 -> 1\n"
          ]
        }
      ],
      "source": [
        "class ListNode:\n",
        "    def __init__(self, value):\n",
        "        self.value = value\n",
        "        self.next = None\n",
        "\n",
        "def deleteZeroSum(head):\n",
        "    dummy = ListNode(0)\n",
        "    dummy.next = head\n",
        "    running_sum = 0\n",
        "    sum_dict = {0: dummy}\n",
        "\n",
        "    while head:\n",
        "        running_sum += head.value\n",
        "        sum_dict[running_sum] = head\n",
        "        head = head.next\n",
        "\n",
        "    head = dummy\n",
        "    running_sum = 0\n",
        "    while head:\n",
        "        running_sum += head.value\n",
        "        if running_sum in sum_dict and sum_dict[running_sum] != head:\n",
        "            head.next = sum_dict[running_sum].next\n",
        "        head = head.next\n",
        "\n",
        "    return dummy.next\n",
        "\n",
        "def print_LL(head):\n",
        "    current = head\n",
        "    while current:\n",
        "        if current.next:\n",
        "            print(current.value, end=\" -> \")\n",
        "        else:\n",
        "            print(current.value, end=\"\")\n",
        "        current = current.next\n",
        "    print()\n",
        "\n",
        "def create_LL(values):\n",
        "    head = ListNode(values[0])\n",
        "    current = head\n",
        "    for value in values[1:]:\n",
        "        current.next = ListNode(value)\n",
        "        current = current.next\n",
        "    return head\n",
        "\n",
        "def UI():\n",
        "    values = input(\"Enter elements of the linked list separated by spaces: \").split()\n",
        "    values = [int(value) for value in values]\n",
        "    return create_LL(values)\n",
        "\n",
        "if __name__ == \"__main__\":\n",
        "    head = UI()\n",
        "\n",
        "    print(\"\\nOriginal Linked List:\")\n",
        "    print_LL(head)\n",
        "\n",
        "    head = deleteZeroSum(head)\n",
        "\n",
        "    print(\"\\nLinked List after Deleting Zero Sum Nodes:\")\n",
        "    print_LL(head)\n"
      ]
    },
    {
      "cell_type": "markdown",
      "source": [
        "**2. Reverse a linked list in groups of given size**\n"
      ],
      "metadata": {
        "id": "pV0y9h5_ia8Q"
      }
    },
    {
      "cell_type": "markdown",
      "source": [
        "#### **Code:**"
      ],
      "metadata": {
        "id": "B66_7C72uj-Q"
      }
    },
    {
      "cell_type": "code",
      "source": [
        "from os import SCHED_RESET_ON_FORK\n",
        "class ListNode:\n",
        "    def __init__(self, value):\n",
        "        self.value = value\n",
        "        self.next = None\n",
        "\n",
        "def reverseInGroups(head, k):\n",
        "    def reverseList(head, k):\n",
        "        prev = None\n",
        "        current = head\n",
        "        next_node = None\n",
        "        count = 0\n",
        "\n",
        "        while current is not None and count < k:\n",
        "            next_node = current.next\n",
        "            current.next = prev\n",
        "            prev = current\n",
        "            current = next_node\n",
        "            count += 1\n",
        "\n",
        "        if next_node is not None:\n",
        "            head.next = reverseInGroups(next_node, k)\n",
        "\n",
        "        return prev\n",
        "\n",
        "    return reverseList(head, k)\n",
        "\n",
        "def createLinkedList(values):\n",
        "    if not values:\n",
        "        return None\n",
        "    head = ListNode(values[0])\n",
        "    current = head\n",
        "    for value in values[1:]:\n",
        "        current.next = ListNode(value)\n",
        "        current = current.next\n",
        "    return head\n",
        "\n",
        "def printLinkedList(head):\n",
        "    current = head\n",
        "    while current:\n",
        "      if current.next:\n",
        "        print(current.value, end=\" -> \")\n",
        "      else:\n",
        "        print(current.value, end=\"\")\n",
        "      current = current.next\n",
        "    print()\n",
        "if __name__ == \"__main__\":\n",
        "    values = input(\"Enter a list of values separated by spaces: \").split()\n",
        "    values = [int(value) for value in values]\n",
        "    S = int(input(\"Enter the group size: \"))\n",
        "    head = createLinkedList(values)\n",
        "\n",
        "    print(\"Original Linked List:\")\n",
        "    printLinkedList(head)\n",
        "\n",
        "    head = reverseInGroups(head, k)\n",
        "\n",
        "    print(\"\\nLinked List after Reversing in Groups of\", S, \"nodes:\")\n",
        "    printLinkedList(head)\n"
      ],
      "metadata": {
        "colab": {
          "base_uri": "https://localhost:8080/"
        },
        "id": "Huv9wK4biqIK",
        "outputId": "09c7bd7e-030e-4f62-8339-4406cd9006fb"
      },
      "execution_count": 24,
      "outputs": [
        {
          "output_type": "stream",
          "name": "stdout",
          "text": [
            "Enter a list of values separated by spaces: 1 2 3 4 5 6 7 8\n",
            "Enter the group size: 3\n",
            "Original Linked List:\n",
            "1 -> 2 -> 3 -> 4 -> 5 -> 6 -> 7 -> 8\n",
            "\n",
            "Linked List after Reversing in Groups of 3 nodes:\n",
            "3 -> 2 -> 1 -> 6 -> 5 -> 4 -> 8 -> 7\n"
          ]
        }
      ]
    },
    {
      "cell_type": "markdown",
      "source": [
        "**3.Merge a linked list into another linked list at alternate positions.**\n",
        "\n",
        "\n"
      ],
    {
      "cell_type": "markdown",
      "source": [
        "#### **Code:**"
      ]
      "metadata": {
        "id": "lCjKAA_kj6fZ"
      }
    },
    {
      "cell_type": "code",
      "source": [
        "class ListNode:\n",
        "    def __init__(self, value):\n",
        "        self.value = value\n",
        "        self.next = None\n",
        "\n",
        "def mergeAt_AlternatePositions(head1, head2):\n",
        "    if not head1:\n",
        "        return head2\n",
        "    if not head2:\n",
        "        return head1\n",
        "\n",
        "    current1 = head1\n",
        "    current2 = head2\n",
        "    result = ListNode(0)\n",
        "    current = result\n",
        "\n",
        "    while current1 is not None and current2 is not None:\n",
        "        current.next = current1\n",
        "        current1 = current1.next\n",
        "        current = current.next\n",
        "\n",
        "        current.next = current2\n",
        "        current2 = current2.next\n",
        "        current = current.next\n",
        "\n",
        "    if current1:\n",
        "        current.next = current1\n",
        "    if current2:\n",
        "        current.next = current2\n",
        "\n",
        "    return result.next\n",
        "\n",
        "def create_LL(values):\n",
        "    if not values:\n",
        "        return None\n",
        "    head = ListNode(values[0])\n",
        "    current = head\n",
        "    for value in values[1:]:\n",
        "        current.next = ListNode(value)\n",
        "        current = current.next\n",
        "    return head\n",
        "\n",
        "def print_LL(head):\n",
        "    current = head\n",
        "    while current:\n",
        "      if current.next:\n",
        "        print(current.value, end=\" -> \")\n",
        "      else:\n",
        "        print(current.value, end=\"\")\n",
        "      current = current.next\n",
        "    print()\n",
        "\n",
        "def inputList(prompt):\n",
        "    input_str = input(prompt)\n",
        "    values = input_str.split()\n",
        "    return [int(value) for value in values]\n",
        "\n",
        "if __name__ == \"__main__\":\n",
        "    values1 = inputList(\"Enter values for Linked List 1 separated by spaces: \")\n",
        "    values2 = inputList(\"Enter values for Linked List 2 separated by spaces: \")\n",
        "    head1 = create_LL(values1)\n",
        "    head2 = create_LL(values2)\n",
        "\n",
        "    print(\"\\nOriginal Linked List 1:\")\n",
        "    print_LL(head1)\n",
        "\n",
        "    print(\"\\nOriginal Linked List 2:\")\n",
        "    print_LL(head2)\n",
        "\n",
        "    merged_head = mergeAt_AlternatePositions(head1, head2)\n",
        "\n",
        "    print(\"\\nLinked Lists Merged at Alternate Positions:\")\n",
        "    print_LL(merged_head)\n"
      ],
      "metadata": {
        "colab": {
          "base_uri": "https://localhost:8080/"
        },
        "id": "Whfb3ubOkDKg",
        "outputId": "35569ab3-0da9-419f-aa46-7c5d393ccab6"
      },
      "execution_count": 23,
      "outputs": [
        {
          "output_type": "stream",
          "name": "stdout",
          "text": [
            "Enter values for Linked List 1 separated by spaces: 1 3 5\n",
            "Enter values for Linked List 2 separated by spaces: 2 4 6 8\n",
            "\n",
            "Original Linked List 1:\n",
            "1 -> 3 -> 5\n",
            "\n",
            "Original Linked List 2:\n",
            "2 -> 4 -> 6 -> 8\n",
            "\n",
            "Linked Lists Merged at Alternate Positions:\n",
            "1 -> 2 -> 3 -> 4 -> 5 -> 6 -> 8\n"
          ]
        }
      ]
    },
    {
      "cell_type": "markdown",
      "source": [
        "**4.In an array, Count Pairs with given sum**"
      ],
      "metadata": {
        "id": "G_-scZj6mWO0"
      }
    },
    {
      "cell_type": "code",
      "source": [
        "def countPairsWithSum(arr, target_sum):\n",
        "    count = 0\n",
        "    num_dict = {}\n",
        "\n",
        "    for num in arr:\n",
        "        diff = target_sum - num\n",
        "\n",
        "        if diff in num_dict:\n",
        "            count += num_dict[diff]\n",
        "\n",
        "        if num in num_dict:\n",
        "            num_dict[num] += 1\n",
        "        else:\n",
        "            num_dict[num] = 1\n",
        "\n",
        "    return count\n",
        "\n",
        "def inputArray(prompt):\n",
        "    input_str = input(prompt)\n",
        "    values = input_str.split()\n",
        "    return [int(value) for value in values]\n",
        "\n",
        "if __name__ == \"__main__\":\n",
        "    arr = inputArray(\"Enter an array of integers separated by spaces: \")\n",
        "    target_sum = int(input(\"Enter the target sum: \"))\n",
        "    pairs_count = countPairsWithSum(arr, target_sum)\n",
        "\n",
        "    print(f\"Number of pairs with sum {target_sum}: {pairs_count}\")\n"
      ],
      "metadata": {
        "colab": {
          "base_uri": "https://localhost:8080/"
        },
        "id": "qrvtz9JKpbmy",
        "outputId": "c17c459b-0b62-48e6-88c6-7361654143a0"
      },
      "execution_count": 27,
      "outputs": [
        {
          "output_type": "stream",
          "name": "stdout",
          "text": [
            "Enter an array of integers separated by spaces: 1 2 3 4 5 6 7 8 9\n",
            "Enter the target sum: 10\n",
            "Number of pairs with sum 10: 4\n"
          ]
        }
      ]
    },
    {
      "cell_type": "markdown",
      "source": [
        "**5.Find duplicates in an array**"
      ],
      "metadata": {
        "id": "ocQ4juytuJwU"
      }
    },
    {
      "cell_type": "code",
      "source": [
        "def findDuplicates(arr):\n",
        "    duplicates = set()\n",
        "    num_dict = {}\n",
        "\n",
        "    for num in arr:\n",
        "        if num in num_dict:\n",
        "            num_dict[num] += 1\n",
        "        else:\n",
        "            num_dict[num] = 1\n",
        "\n",
        "        if num_dict[num] > 1:\n",
        "            duplicates.add(num)\n",
        "\n",
        "    return list(duplicates)\n",
        "\n",
        "def inputArray(prompt):\n",
        "    input_str = input(prompt)\n",
        "    values = input_str.split()\n",
        "    return [int(value) for value in values]\n",
        "\n",
        "if __name__ == \"__main__\":\n",
        "    arr = inputArray(\"Enter an array of integers separated by spaces: \")\n",
        "    duplicate_elements = findDuplicates(arr)\n",
        "\n",
        "    if duplicate_elements:\n",
        "        print(f\"Duplicates in the array: {duplicate_elements}\")\n",
        "    else:\n",
        "        print(\"No duplicates found in the array.\")\n"
      ],
      "metadata": {
        "colab": {
          "base_uri": "https://localhost:8080/"
        },
        "id": "KzgKcSYYuQdq",
        "outputId": "9c9f6da0-0d6b-451c-c663-f402dea9aa13"
      },
      "execution_count": 30,
      "outputs": [
        {
          "output_type": "stream",
          "name": "stdout",
          "text": [
            "Enter an array of integers separated by spaces: 1 2 3 2 14 7 8 3\n",
            "Duplicates in the array: [2, 3]\n"
          ]
        }
      ]
    },
    {
      "cell_type": "markdown",
      "source": [
        "**6.Find the Kth largest and Kth smallest number in an array**"
      ],
      "metadata": {
        "id": "sbmCRX0QvS0o"
      }
    },
    {
      "cell_type": "code",
      "source": [
        "import random\n",
        "\n",
        "def partition(arr, low, high):\n",
        "    pivot = arr[high]\n",
        "    i = low - 1\n",
        "\n",
        "    for j in range(low, high):\n",
        "        if arr[j] <= pivot:\n",
        "            i += 1\n",
        "            arr[i], arr[j] = arr[j], arr[i]\n",
        "\n",
        "    arr[i + 1], arr[high] = arr[high], arr[i + 1]\n",
        "    return i + 1\n",
        "\n",
        "def quickSelect(arr, low, high, k):\n",
        "    if low <= high:\n",
        "        p_Index = partition(arr, low, high)\n",
        "\n",
        "        if p_Index == k:\n",
        "            return arr[p_Index]\n",
        "        elif p_Index < k:\n",
        "            return quickSelect(arr, p_Index + 1, high, k)\n",
        "        else:\n",
        "            return quickSelect(arr, low, p_Index - 1, k)\n",
        "\n",
        "def findKthLargestAndSmallest(arr, k):\n",
        "    if k < 1 or k > len(arr):\n",
        "        return None\n",
        "\n",
        "    kth_smallest = quickSelect(arr.copy(), 0, len(arr) - 1, k - 1)\n",
        "    kth_largest = quickSelect(arr.copy(), 0, len(arr) - 1, len(arr) - k)\n",
        "\n",
        "    return kth_smallest, kth_largest\n",
        "\n",
        "def inputArray(prompt):\n",
        "    input_str = input(prompt)\n",
        "    values = input_str.split()\n",
        "    return [int(value) for value in values]\n",
        "\n",
        "if __name__ == \"__main__\":\n",
        "    arr = inputArray(\"Enter an array of integers separated by spaces: \")\n",
        "    k = int(input(\"Enter the value of K: \"))\n",
        "\n",
        "    result = findKthLargestAndSmallest(arr, k)\n",
        "\n",
        "    if result:\n",
        "        kth_smallest, kth_largest = result\n",
        "        print(f\"Kth Smallest Element: {kth_smallest}\")\n",
        "        print(f\"Kth Largest Element: {kth_largest}\")\n",
        "    else:\n",
        "        print(\"Invalid value of K. Please enter a valid K.\")\n"
      ],
      "metadata": {
        "colab": {
          "base_uri": "https://localhost:8080/"
        },
        "id": "gNQVcHCPHVJG",
        "outputId": "c42f2c91-72c5-4029-f94a-452bbe6103ad"
      },
      "execution_count": 33,
      "outputs": [
        {
          "output_type": "stream",
          "name": "stdout",
          "text": [
            "Enter an array of integers separated by spaces: 1 3 6 7 8 3 2 1\n",
            "Enter the value of K: 3\n",
            "Kth Smallest Element: 2\n",
            "Kth Largest Element: 6\n"
          ]
        }
      ]
    },
    {
      "cell_type": "markdown",
      "source": [
        "**7. Move all the negative elements to one side of the array**"
      ],
      "metadata": {
        "id": "-9vHyCkEHmXl"
      }
    },
    {
      "cell_type": "code",
      "source": [
        "def move_negative_elements(arr):\n",
        "    left = 0\n",
        "    right = len(arr) - 1\n",
        "\n",
        "    while left <= right:\n",
        "        if arr[left] < 0 and arr[right] < 0:\n",
        "            left += 1\n",
        "        elif arr[left] >= 0 and arr[right] < 0:\n",
        "            arr[left], arr[right] = arr[right], arr[left]\n",
        "            left += 1\n",
        "            right -= 1\n",
        "        elif arr[left] >= 0 and arr[right] >= 0:\n",
        "            right -= 1\n",
        "        else:\n",
        "            left += 1\n",
        "            right -= 1\n",
        "\n",
        "    return arr\n",
        "\n",
        "input_str = input(\"Enter an array of integers separated by spaces: \")\n",
        "arr = list(map(int, input_str.split()))\n",
        "\n",
        "print(\"Original Array\", arr)\n",
        "result = move_negative_elements(arr)\n",
        "print(\"Array with negative elements moved to one side:\")\n",
        "print(result)\n"
      ],
      "metadata": {
        "colab": {
          "base_uri": "https://localhost:8080/"
        },
        "id": "23ulxJf8Izx8",
        "outputId": "06701000-f338-4c32-9acf-d0d7d39429d9"
      },
      "execution_count": 3,
      "outputs": [
        {
          "output_type": "stream",
          "name": "stdout",
          "text": [
            "Enter an array of integers separated by spaces: -12 11 -13 -5 6 -7 5 -3 -6\n",
            "Original Array [-12, 11, -13, -5, 6, -7, 5, -3, -6]\n",
            "Array with negative elements moved to one side:\n",
            "[-12, -6, -13, -5, -3, -7, 5, 6, 11]\n"
          ]
        }
      ]
    },
    {
      "cell_type": "markdown",
      "source": [
        "**8.Reverse a string using a stack data structure**"
      ],
      "metadata": {
        "id": "NJWeuecxH3oc"
      }
    },
    {
      "cell_type": "code",
      "source": [
        "class Stack:\n",
        "    def __init__(self):\n",
        "        self.items = []\n",
        "\n",
        "    def is_empty(self):\n",
        "        return len(self.items) == 0\n",
        "\n",
        "    def push(self, item):\n",
        "        self.items.append(item)\n",
        "\n",
        "    def pop(self):\n",
        "        if not self.is_empty():\n",
        "            return self.items.pop()\n",
        "        else:\n",
        "            raise IndexError(\"pop from empty stack\")\n",
        "\n",
        "    def peek(self):\n",
        "        if not self.is_empty():\n",
        "            return self.items[-1]\n",
        "        else:\n",
        "            raise IndexError(\"peek from empty stack\")\n",
        "\n",
        "def reverse_string(input_string):\n",
        "    stack = Stack()\n",
        "    for char in input_string:\n",
        "        stack.push(char)\n",
        "\n",
        "    reversed_string = ''\n",
        "    while not stack.is_empty():\n",
        "        reversed_string += stack.pop()\n",
        "\n",
        "    return reversed_string\n",
        "\n",
        "input_string =input(\"Enter the String : \" )\n",
        "reversed_result = reverse_string(input_string)\n",
        "print(\"Reversed String:\", reversed_result)\n"
      ],
      "metadata": {
        "colab": {
          "base_uri": "https://localhost:8080/"
        },
        "id": "SL8lAsJfHbwx",
        "outputId": "dfc1f862-06b3-4bfa-86e5-32add7ae22dc"
      },
      "execution_count": 5,
      "outputs": [
        {
          "output_type": "stream",
          "name": "stdout",
          "text": [
            "Enter the String : shubham\n",
            "Reversed String: mahbuhs\n"
          ]
        }
      ]
    },
    {
      "cell_type": "markdown",
      "source": [
        "**9.Evaluate a postfix expression using stack**"
      ],
      "metadata": {
        "id": "N7WwFjJbI1Xb"
      }
    },
    {
      "cell_type": "code",
      "source": [
        "class Stack:\n",
        "    def __init__(self):\n",
        "        self.items = []\n",
        "\n",
        "    def is_empty(self):\n",
        "        return len(self.items) == 0\n",
        "\n",
        "    def push(self, item):\n",
        "        self.items.append(item)\n",
        "\n",
        "    def pop(self):\n",
        "        if not self.is_empty():\n",
        "            return self.items.pop()\n",
        "        else:\n",
        "            raise IndexError(\"pop from empty stack\")\n",
        "\n",
        "def evaluate_postfix(expression):\n",
        "    stack = Stack()\n",
        "    operators = set(['+', '-', '*', '/'])\n",
        "\n",
        "    for char in expression:\n",
        "        if char.isdigit():\n",
        "            stack.push(int(char))\n",
        "        elif char in operators:\n",
        "            operand2 = stack.pop()\n",
        "            operand1 = stack.pop()\n",
        "            if char == '+':\n",
        "                result = operand1 + operand2\n",
        "            elif char == '-':\n",
        "                result = operand1 - operand2\n",
        "            elif char == '*':\n",
        "                result = operand1 * operand2\n",
        "            elif char == '/':\n",
        "                result = operand1 / operand2\n",
        "            stack.push(result)\n",
        "\n",
        "    if len(stack.items) == 1:\n",
        "        return stack.pop()\n",
        "    else:\n",
        "        raise ValueError(\"Invalid postfix expression\")\n",
        "\n",
        "# Example usage:\n",
        "postfix_expression = input(\"Enter a postfix expression: \")\n",
        "result = evaluate_postfix(postfix_expression)\n",
        "print(\"Result:\", result)\n"
      ],
      "metadata": {
        "colab": {
          "base_uri": "https://localhost:8080/"
        },
        "id": "P3ZuwXQ8JNzL",
        "outputId": "cf3ebe00-75cc-4c0f-ae78-d2eb73dc9e79"
      },
      "execution_count": 10,
      "outputs": [
        {
          "output_type": "stream",
          "name": "stdout",
          "text": [
            "Enter a postfix expression: 53+7*\n",
            "Result: 56\n"
          ]
        }
      ]
    },
    {
      "cell_type": "markdown",
      "source": [
        "**10.Implement a queue using the stack data structure**"
      ],
      "metadata": {
        "id": "BXdD5VfYJbXV"
      }
    },
    {
      "cell_type": "code",
      "source": [
        "class QueueUsingStacks:\n",
        "    def __init__(self):\n",
        "        self.stack1 = []\n",
        "        self.stack2 = []\n",
        "\n",
        "    def enqueue(self, item):\n",
        "        # Push items onto stack1 for enqueue operation\n",
        "        self.stack1.append(item)\n",
        "\n",
        "    def dequeue(self):\n",
        "        # If both stacks are empty, the queue is empty\n",
        "        if not self.stack1 and not self.stack2:\n",
        "            raise IndexError(\"Queue is empty\")\n",
        "\n",
        "        # If stack2 is empty, transfer elements from stack1\n",
        "        if not self.stack2:\n",
        "            while self.stack1:\n",
        "                self.stack2.append(self.stack1.pop())\n",
        "\n",
        "        # Pop from stack2 for dequeue operation\n",
        "        return self.stack2.pop()\n",
        "\n",
        "    def is_empty(self):\n",
        "        return not self.stack1 and not self.stack2\n",
        "\n",
        "    def size(self):\n",
        "        return len(self.stack1) + len(self.stack2)\n",
        "\n",
        "# Create a queue using two stacks\n",
        "queue = QueueUsingStacks()\n",
        "\n",
        "while True:\n",
        "    print(\"1. Enqueue\")\n",
        "    print(\"2. Dequeue\")\n",
        "    print(\"3. Check size\")\n",
        "    print(\"4. Check if the queue is empty\")\n",
        "    print(\"5. Quit\")\n",
        "    choice = input(\"Enter your choice: \")\n",
        "\n",
        "    if choice == '1':\n",
        "        item = input(\"Enter the item to enqueue: \")\n",
        "        queue.enqueue(item)\n",
        "        print(f\"{item} enqueued.\")\n",
        "    elif choice == '2':\n",
        "        try:\n",
        "            item = queue.dequeue()\n",
        "            print(f\"Dequeued: {item}\")\n",
        "        except IndexError:\n",
        "            print(\"Queue is empty.\")\n",
        "    elif choice == '3':\n",
        "        print(\"Queue size:\", queue.size())\n",
        "    elif choice == '4':\n",
        "        if queue.is_empty():\n",
        "            print(\"The queue is empty.\")\n",
        "        else:\n",
        "            print(\"The queue is not empty.\")\n",
        "    elif choice == '5':\n",
        "        break\n",
        "    else:\n",
        "        print(\"Invalid choice. Please enter a valid option.\")\n"
      ],
      "metadata": {
        "colab": {
          "base_uri": "https://localhost:8080/"
        },
        "id": "ejA0yaNRJiKa",
        "outputId": "146cb96b-46b2-4c42-e615-00513ec931da"
      },
      "execution_count": 15,
      "outputs": [
        {
          "name": "stdout",
          "output_type": "stream",
          "text": [
            "1. Enqueue\n",
            "2. Dequeue\n",
            "3. Check size\n",
            "4. Check if the queue is empty\n",
            "5. Quit\n",
            "Enter your choice: 1\n",
            "Enter the item to enqueue: 1\n",
            "1 enqueued.\n",
            "1. Enqueue\n",
            "2. Dequeue\n",
            "3. Check size\n",
            "4. Check if the queue is empty\n",
            "5. Quit\n",
            "Enter your choice: 1\n",
            "Enter the item to enqueue: 2\n",
            "2 enqueued.\n",
            "1. Enqueue\n",
            "2. Dequeue\n",
            "3. Check size\n",
            "4. Check if the queue is empty\n",
            "5. Quit\n",
            "Enter your choice: 1\n",
            "Enter the item to enqueue: 3\n",
            "3 enqueued.\n",
            "1. Enqueue\n",
            "2. Dequeue\n",
            "3. Check size\n",
            "4. Check if the queue is empty\n",
            "5. Quit\n",
            "Enter your choice: 2\n",
            "Dequeued: 1\n",
            "1. Enqueue\n",
            "2. Dequeue\n",
            "3. Check size\n",
            "4. Check if the queue is empty\n",
            "5. Quit\n",
            "Enter your choice: 2\n",
            "Dequeued: 2\n",
            "1. Enqueue\n",
            "2. Dequeue\n",
            "3. Check size\n",
            "4. Check if the queue is empty\n",
            "5. Quit\n",
            "Enter your choice: 3\n",
            "Queue size: 1\n",
            "1. Enqueue\n",
            "2. Dequeue\n",
            "3. Check size\n",
            "4. Check if the queue is empty\n",
            "5. Quit\n",
            "Enter your choice: 1\n",
            "Enter the item to enqueue: 4\n",
            "4 enqueued.\n",
            "1. Enqueue\n",
            "2. Dequeue\n",
            "3. Check size\n",
            "4. Check if the queue is empty\n",
            "5. Quit\n",
            "Enter your choice: 3\n",
            "Queue size: 2\n",
            "1. Enqueue\n",
            "2. Dequeue\n",
            "3. Check size\n",
            "4. Check if the queue is empty\n",
            "5. Quit\n",
            "Enter your choice: 2\n",
            "Dequeued: 3\n",
            "1. Enqueue\n",
            "2. Dequeue\n",
            "3. Check size\n",
            "4. Check if the queue is empty\n",
            "5. Quit\n",
            "Enter your choice: 3\n",
            "Queue size: 1\n",
            "1. Enqueue\n",
            "2. Dequeue\n",
            "3. Check size\n",
            "4. Check if the queue is empty\n",
            "5. Quit\n",
            "Enter your choice: 4\n",
            "The queue is not empty.\n",
            "1. Enqueue\n",
            "2. Dequeue\n",
            "3. Check size\n",
            "4. Check if the queue is empty\n",
            "5. Quit\n",
            "Enter your choice: 5\n"
          ]
        }
      ]
    },
    {
      "cell_type": "markdown",
      "source": [
        "### **OR**"
      ],
      "metadata": {
        "id": "yvHgwR0WYmsg"
      }
    },
    {
      "cell_type": "code",
      "source": [
        "class QueueUsingStacks:\n",
        "    def __init__(self):\n",
        "        self.stack1 = []\n",
        "        self.stack2 = []\n",
        "\n",
        "    def enqueue(self, item):\n",
        "        self.stack1.append(item)\n",
        "\n",
        "    def dequeue(self):\n",
        "        if not self.stack1 and not self.stack2:\n",
        "            raise IndexError(\"Queue is empty\")\n",
        "\n",
        "        if not self.stack2:\n",
        "            while self.stack1:\n",
        "                self.stack2.append(self.stack1.pop())\n",
        "\n",
        "        return self.stack2.pop()\n",
        "\n",
        "    def is_empty(self):\n",
        "        return not self.stack1 and not self.stack2\n",
        "\n",
        "    def size(self):\n",
        "        return len(self.stack1) + len(self.stack2)\n",
        "\n",
        "queue = QueueUsingStacks()\n",
        "\n",
        "queue.enqueue(1)\n",
        "queue.enqueue(2)\n",
        "queue.enqueue(3)\n",
        "\n",
        "print(\"Queue size:\", queue.size())\n",
        "print(\"Dequeue:\", queue.dequeue())\n",
        "print(\"Dequeue:\", queue.dequeue())\n",
        "print(\"Queue size:\", queue.size())\n",
        "queue.enqueue(4)\n",
        "print(\"Queue size:\", queue.size())\n",
        "print(\"Dequeue:\", queue.dequeue())\n",
        "print(\"Is the queue empty?\", queue.is_empty())\n"
      ],
      "metadata": {
        "colab": {
          "base_uri": "https://localhost:8080/"
        },
        "id": "UbFksLsOYk43",
        "outputId": "bfea2ced-5642-47d1-b762-b3f7e0946259"
      },
      "execution_count": 16,
      "outputs": [
        {
          "output_type": "stream",
          "name": "stdout",
          "text": [
            "Queue size: 3\n",
            "Dequeue: 1\n",
            "Dequeue: 2\n",
            "Queue size: 1\n",
            "Queue size: 2\n",
            "Dequeue: 3\n",
            "Is the queue empty? False\n"
          ]
        }
      ]
    }
  ]
}
