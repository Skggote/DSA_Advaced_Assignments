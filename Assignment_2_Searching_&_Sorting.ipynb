{
  "nbformat": 4,
  "nbformat_minor": 0,
  "metadata": {
    "colab": {
      "provenance": []
    },
    "kernelspec": {
      "name": "python3",
      "display_name": "Python 3"
    },
    "language_info": {
      "name": "python"
    }
  },
  "cells": [
    {
      "cell_type": "markdown",
      "source": [
        "### **Problem for Assignment-3: Searching & Sorting**"
      ],
      "metadata": {
        "id": "k6HZiZBnK9CH"
      }
    },
    {
      "cell_type": "markdown",
      "source": [
        "#### **1.Implement Binary Search**"
      ],
      "metadata": {
        "id": "vpUxE7RMLIMa"
      }
    },
    {
      "cell_type": "code",
      "source": [
        "def binary_search(arr, target):\n",
        "    left, right = 0, len(arr) - 1\n",
        "    while left <= right:\n",
        "        mid = (left + right) // 2\n",
        "        if arr[mid] == target:\n",
        "            return mid\n",
        "        elif arr[mid] < target:\n",
        "            left = mid + 1\n",
        "        else:\n",
        "            right = mid - 1\n",
        "    return -1\n",
        "\n",
        "input_array = input(\"Enter the elements separated by commas: \").split(\",\")\n",
        "array = [int(item) for item in input_array]\n",
        "target = int(input(\"Enter the target: \"))\n",
        "result = binary_search(array, target)\n",
        "if result != -1:\n",
        "    print(f\"Element found at index {result}\")\n",
        "else:\n",
        "    print(\"Element not found\")\n"
      ],
      "metadata": {
        "colab": {
          "base_uri": "https://localhost:8080/"
        },
        "id": "Jc6Jz-YyK-Z9",
        "outputId": "c4a8461b-4d95-4fd6-882f-a4e4e2b927fc"
      },
      "execution_count": null,
      "outputs": [
        {
          "output_type": "stream",
          "name": "stdout",
          "text": [
            "Enter the elements separated by commas: 1,3,5,7,8,9,2,4\n",
            "Enter the target: 5\n",
            "Element found at index 2\n"
          ]
        }
      ]
    },
    {
      "cell_type": "markdown",
      "source": [
        "#### **2.Implement Merge Sort**"
      ],
      "metadata": {
        "id": "Lo8P7OE7LYIG"
      }
    },
    {
      "cell_type": "code",
      "source": [
        "def merge_sort(arr):\n",
        "    if len(arr) <= 1:\n",
        "        return arr\n",
        "\n",
        "    mid = len(arr) // 2\n",
        "    left_half = arr[:mid]\n",
        "    right_half = arr[mid:]\n",
        "\n",
        "    left_half = merge_sort(left_half)\n",
        "    right_half = merge_sort(right_half)\n",
        "\n",
        "    return merge(left_half, right_half)\n",
        "\n",
        "def merge(left, right):\n",
        "    result = []\n",
        "    left_idx, right_idx = 0, 0\n",
        "\n",
        "    while left_idx < len(left) and right_idx < len(right):\n",
        "        if left[left_idx] < right[right_idx]:\n",
        "            result.append(left[left_idx])\n",
        "            left_idx += 1\n",
        "        else:\n",
        "            result.append(right[right_idx])\n",
        "            right_idx += 1\n",
        "\n",
        "    result.extend(left[left_idx:])\n",
        "    result.extend(right[right_idx:])\n",
        "\n",
        "    return result\n",
        "\n",
        "input_array = input(\"Enter the elements separated by commas: \").split(\",\")\n",
        "array = [int(item) for item in input_array]\n",
        "sorted_arr = merge_sort(array)\n",
        "print(\"Sorted array:\", sorted_arr)\n"
      ],
      "metadata": {
        "colab": {
          "base_uri": "https://localhost:8080/"
        },
        "id": "K5OUL4_kLiyR",
        "outputId": "d6fda971-e289-400e-ad9b-9f99489984e2"
      },
      "execution_count": null,
      "outputs": [
        {
          "output_type": "stream",
          "name": "stdout",
          "text": [
            "Enter the elements separated by commas: 12, 11, 13, 5, 6, 7\n",
            "Sorted array: [5, 6, 7, 11, 12, 13]\n"
          ]
        }
      ]
    },
    {
      "cell_type": "markdown",
      "source": [
        "#### **3.Implement Quick Sort**"
      ],
      "metadata": {
        "id": "ZSPBrvXZLpvS"
      }
    },
    {
      "cell_type": "code",
      "source": [
        "def quick_sort(arr):\n",
        "    if len(arr) <= 1:\n",
        "        return arr\n",
        "\n",
        "    lst = arr[len(arr) // 2]\n",
        "    left = [x for x in arr if x < lst]\n",
        "    middle = [x for x in arr if x == lst]\n",
        "    right = [x for x in arr if x > lst]\n",
        "\n",
        "    return quick_sort(left) + middle + quick_sort(right)\n",
        "\n",
        "input_array = input(\"Enter the elements separated by commas: \").split(\",\")\n",
        "arr = [int(item) for item in input_array]\n",
        "\n",
        "sorted_arr = quick_sort(arr)\n",
        "print(\"Sorted array:\", sorted_arr)"
      ],
      "metadata": {
        "colab": {
          "base_uri": "https://localhost:8080/"
        },
        "id": "T-_O0C1jLv5b",
        "outputId": "6f3d7d50-3e6d-4101-e9eb-26520f3e84c4"
      },
      "execution_count": 1,
      "outputs": [
        {
          "output_type": "stream",
          "name": "stdout",
          "text": [
            "Enter the elements separated by commas: 12, 4, 5, 6, 7, 3, 1, 15, 8, 10\n",
            "Sorted array: [1, 3, 4, 5, 6, 7, 8, 10, 12, 15]\n"
          ]
        }
      ]
    },
    {
      "cell_type": "markdown",
      "source": [
        "#### **4. Implement Insertion Sort**"
      ],
      "metadata": {
        "id": "EUEg5zjRL2dh"
      }
    },
    {
      "cell_type": "code",
      "source": [
        "def insertion_sort(arr):\n",
        "    for i in range(1, len(arr)):\n",
        "        key = arr[i]\n",
        "        j = i - 1\n",
        "\n",
        "        while j >= 0 and key < arr[j]:\n",
        "            arr[j + 1] = arr[j]\n",
        "            j -= 1\n",
        "\n",
        "        arr[j + 1] = key\n",
        "\n",
        "input_array = input(\"Enter the elements separated by commas: \").split(\",\")\n",
        "arr = [int(item) for item in input_array]\n",
        "\n",
        "insertion_sort(arr)\n",
        "print(\"Sorted array:\", arr)"
      ],
      "metadata": {
        "id": "7l6BLNRIL7uG",
        "colab": {
          "base_uri": "https://localhost:8080/"
        },
        "outputId": "eb61f562-d23e-4064-8bff-37201448b1a0"
      },
      "execution_count": 2,
      "outputs": [
        {
          "output_type": "stream",
          "name": "stdout",
          "text": [
            "Enter the elements separated by commas: 12, 11, 13, 5, 6, 7\n",
            "Sorted array: [5, 6, 7, 11, 12, 13]\n"
          ]
        }
      ]
    },
    {
      "cell_type": "markdown",
      "source": [
        "#### **5. Write a program to sort list of strings (similar to that of dictionary)**"
      ],
      "metadata": {
        "id": "r0nqmHjxL_0b"
      }
    },
    {
      "cell_type": "code",
      "source": [
        "def sort_strings(lst):\n",
        "    return sorted(lst)\n",
        "\n",
        "input_array = input(\"Enter the elements separated by commas: \").split(\",\")\n",
        "arr = [int(item) for item in input_array]\n",
        "\n",
        "print(\"Sorted array:\", sort_strings(arr))"
      ],
      "metadata": {
        "id": "3mcwUkD4MHSq",
        "colab": {
          "base_uri": "https://localhost:8080/"
        },
        "outputId": "e8e6a999-2264-4e08-c8c9-320de132e235"
      },
      "execution_count": 5,
      "outputs": [
        {
          "output_type": "stream",
          "name": "stdout",
          "text": [
            "Enter the elements separated by commas: 12, 11, 13, 5, 6, 7\n",
            "Sorted array: [5, 6, 7, 11, 12, 13]\n"
          ]
        }
      ]
    }
  ]
}